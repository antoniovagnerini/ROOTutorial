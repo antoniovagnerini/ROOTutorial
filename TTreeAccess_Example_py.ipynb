{
 "cells": [
  {
   "cell_type": "markdown",
   "metadata": {},
   "source": [
    "# Access TTree in Python using PyROOT"
   ]
  },
  {
   "cell_type": "code",
   "execution_count": 1,
   "metadata": {},
   "outputs": [
    {
     "name": "stdout",
     "output_type": "stream",
     "text": [
      "Welcome to JupyROOT 6.24/08\n"
     ]
    }
   ],
   "source": [
    "import ROOT"
   ]
  },
  {
   "cell_type": "markdown",
   "metadata": {},
   "source": [
    "Open a file which is located on the web. No type is to be specified for \"f\"."
   ]
  },
  {
   "cell_type": "code",
   "execution_count": 2,
   "metadata": {},
   "outputs": [],
   "source": [
    "f = ROOT.TFile.Open(\"events.root\");"
   ]
  },
  {
   "cell_type": "markdown",
   "metadata": {},
   "source": [
    "Loop over the TTree called \"events\" in the file. It is accessed with the dot operator.\n",
    "Same holds for the access to the branches: no need to set them up - they are just accessed by name, again with the dot operator."
   ]
  },
  {
   "cell_type": "code",
   "execution_count": 3,
   "metadata": {},
   "outputs": [
    {
     "name": "stdout",
     "output_type": "stream",
     "text": [
      "Processing event number 0\n",
      "Max pt is 37.588237585229464\n",
      "Processing event number 100\n",
      "Max pt is 32.405018082372145\n",
      "Processing event number 200\n",
      "Max pt is 34.62480454994086\n",
      "Processing event number 300\n",
      "Max pt is 37.022694356569005\n",
      "Processing event number 400\n",
      "Max pt is 35.20175085454956\n",
      "Processing event number 500\n",
      "Max pt is 35.25784845409173\n",
      "Processing event number 600\n",
      "Max pt is 43.02029765953358\n",
      "Processing event number 700\n",
      "Max pt is 36.73134930302804\n",
      "Processing event number 800\n",
      "Max pt is 34.08270545635296\n",
      "Processing event number 900\n",
      "Max pt is 34.757829267013086\n"
     ]
    }
   ],
   "source": [
    "maxPt=-1\n",
    "for event in f.events:\n",
    "    maxPt=-1\n",
    "    for track in event.tracks:\n",
    "        pt = track.Pt()\n",
    "        if pt > maxPt: maxPt = pt\n",
    "    if event.evtNum % 100 == 0:\n",
    "        print (\"Processing event number\", event.evtNum)\n",
    "        print (\"Max pt is\", maxPt)"
   ]
  },
  {
   "cell_type": "code",
   "execution_count": null,
   "metadata": {
    "collapsed": true,
    "jupyter": {
     "outputs_hidden": true
    }
   },
   "outputs": [],
   "source": []
  }
 ],
 "metadata": {
  "kernelspec": {
   "display_name": "Python 3",
   "language": "python",
   "name": "python3"
  },
  "language_info": {
   "codemirror_mode": {
    "name": "ipython",
    "version": 3
   },
   "file_extension": ".py",
   "mimetype": "text/x-python",
   "name": "python",
   "nbconvert_exporter": "python",
   "pygments_lexer": "ipython3",
   "version": "3.6.8"
  }
 },
 "nbformat": 4,
 "nbformat_minor": 4
}
